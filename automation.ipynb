{
 "cells": [
  {
   "cell_type": "code",
   "execution_count": 29,
   "metadata": {},
   "outputs": [],
   "source": [
    "from selenium import webdriver\n",
    "from webdriver_manager.chrome import ChromeDriverManager\n",
    "from selenium.webdriver.chrome.service import Service\n",
    "from selenium.webdriver.chrome.options import Options\n",
    "from selenium.webdriver.support.wait import WebDriverWait\n",
    "from selenium.webdriver.support import expected_conditions as EC\n",
    "from selenium.webdriver.common.by import By\n",
    "import time"
   ]
  },
  {
   "cell_type": "code",
   "execution_count": 7,
   "metadata": {},
   "outputs": [],
   "source": [
    "service = Service(ChromeDriverManager().install())\n",
    "options = Options()\n",
    "\n",
    "driver = webdriver.Chrome(service=service, options=options)"
   ]
  },
  {
   "cell_type": "code",
   "execution_count": 8,
   "metadata": {},
   "outputs": [],
   "source": [
    "driver.get(\"https://www.utest.com\")"
   ]
  },
  {
   "cell_type": "code",
   "execution_count": 9,
   "metadata": {},
   "outputs": [],
   "source": [
    "driver.find_element(By.XPATH, \"//a[@href='/signup']\").click()"
   ]
  },
  {
   "cell_type": "code",
   "execution_count": 10,
   "metadata": {},
   "outputs": [],
   "source": [
    "#Find fields\n",
    "\n",
    "first_name_field = driver.find_element(By.ID, \"firstName\")\n",
    "last_name_field = driver.find_element(By.ID, \"lastName\")\n",
    "email_field = driver.find_element(By.ID, \"email\")\n",
    "\n",
    "first_name_field.send_keys(\"Jan\")\n",
    "last_name_field.send_keys(\"Marsino\")\n",
    "email_field.send_keys(\"janmarsinopique@gmail.com\")\n"
   ]
  },
  {
   "cell_type": "code",
   "execution_count": 11,
   "metadata": {},
   "outputs": [],
   "source": [
    "month_field = driver.find_element(By.ID, \"birthMonth\")\n",
    "day_field = driver.find_element(By.ID, \"birthDay\")\n",
    "year_field = driver.find_element(By.ID, \"birthYear\")\n",
    "\n",
    "month_field.click()\n",
    "driver.find_element(By.XPATH, \"//option[@label='October']\").click()\n",
    "day_field.click()\n",
    "driver.find_element(By.XPATH, \"//option[@label='16']\").click()\n",
    "year_field.click()\n",
    "driver.find_element(By.XPATH, \"//option[@label='1998']\").click()"
   ]
  },
  {
   "cell_type": "code",
   "execution_count": 13,
   "metadata": {},
   "outputs": [],
   "source": [
    "#Press next button\n",
    "\n",
    "driver.find_element(By.XPATH, \"//button[contains(normalize-space(), 'Next: Location')]\").click()"
   ]
  },
  {
   "cell_type": "code",
   "execution_count": 33,
   "metadata": {},
   "outputs": [],
   "source": [
    "driver.find_element(By.ID, \"city\").find_element(By.CLASS_NAME, \"clear-btn\").click()\n",
    "input_box = driver.find_element(By.ID, \"city\").find_element(By.XPATH, \"//input\")\n",
    "for ch in \"La Seu d'Urgell\":\n",
    "    input_box.send_keys(ch)\n",
    "    time.sleep(0.1)\n",
    "driver.find_element(By.XPATH, \"//div[@class='option']\").click()\n"
   ]
  },
  {
   "cell_type": "code",
   "execution_count": 35,
   "metadata": {},
   "outputs": [],
   "source": [
    "driver.find_element(By.XPATH, \"//button[contains(normalize-space(), 'Next: Devices')]\").click()"
   ]
  },
  {
   "cell_type": "code",
   "execution_count": null,
   "metadata": {},
   "outputs": [],
   "source": [
    "driver.find_element(By.XPATH, \"//span[@aria-label='Select OS']\").click()\n",
    "search_box = driver.find_element(By.XPATH, \"//input[@aria-label='Select box']\")\n",
    "\n",
    "for ch in \"windows\":\n",
    "    search_box.send_keys(ch)\n",
    "    time.sleep(0.1)\n",
    "driver.find_element(By.CLASS_NAME, \"ui-select-choices-row-inner\").click()\n",
    "\n",
    "\n",
    "time.sleep(2)\n"
   ]
  },
  {
   "cell_type": "code",
   "execution_count": 49,
   "metadata": {},
   "outputs": [],
   "source": [
    "driver.find_element(By.XPATH, \"//span[@aria-label='Select a Version']\").click()\n",
    "search_box = driver.find_element(By.XPATH, \"//input[@placeholder='Select a Version']\")\n",
    "for ch in \"11\":\n",
    "    time.sleep(1)\n",
    "    search_box.send_keys(ch)\n",
    "    time.sleep(0.1)\n",
    "driver.find_element(By.CLASS_NAME, \"ui-select-choices-row-inner\").click()"
   ]
  },
  {
   "cell_type": "code",
   "execution_count": 50,
   "metadata": {},
   "outputs": [],
   "source": [
    "driver.find_element(By.XPATH, \"//span[@aria-label='Select OS language']\").click()\n",
    "search_box = driver.find_element(By.XPATH, \"//input[@placeholder='Select OS language']\")\n",
    "for ch in \"English\":\n",
    "    search_box.send_keys(ch)\n",
    "driver.find_element(By.CLASS_NAME, \"ui-select-choices-row-inner\").click()"
   ]
  },
  {
   "cell_type": "code",
   "execution_count": 51,
   "metadata": {},
   "outputs": [],
   "source": [
    "driver.find_element(By.XPATH, \"//span[@aria-label='Select Brand']\").click()\n",
    "search_box = driver.find_element(By.XPATH, \"//input[@placeholder='Select Brand']\")\n",
    "for ch in \"OPPO\":\n",
    "    search_box.send_keys(ch)\n",
    "driver.find_element(By.CLASS_NAME, \"ui-select-choices-row-inner\").click()"
   ]
  },
  {
   "cell_type": "code",
   "execution_count": 52,
   "metadata": {},
   "outputs": [],
   "source": [
    "driver.find_element(By.XPATH, \"//span[@aria-label='Select a Model']\").click()\n",
    "search_box = driver.find_element(By.XPATH, \"//input[@placeholder='Select a Model']\")\n",
    "for ch in \"Find X2 Pro\":\n",
    "    search_box.send_keys(ch)\n",
    "driver.find_element(By.CLASS_NAME, \"ui-select-choices-row-inner\").click()"
   ]
  },
  {
   "cell_type": "code",
   "execution_count": 62,
   "metadata": {},
   "outputs": [],
   "source": [
    "driver.find_element(By.XPATH, \"//div[@id='mobile-device']//span[@aria-label='Select OS']\").click()\n",
    "search_box = driver.find_elements(By.XPATH, \"//input[@placeholder='Select OS']\")[1]\n",
    "for ch in \"Android 10\":\n",
    "    search_box.send_keys(ch)\n",
    "driver.find_element(By.CLASS_NAME, \"ui-select-choices-row-inner\").click()"
   ]
  },
  {
   "cell_type": "code",
   "execution_count": 63,
   "metadata": {},
   "outputs": [],
   "source": [
    "next_step_btn = driver.find_element(By.XPATH, \"//button[contains(normalize-space(), 'Next: Last Step')]\")\n",
    "next_step_btn.click()"
   ]
  },
  {
   "cell_type": "code",
   "execution_count": 65,
   "metadata": {},
   "outputs": [],
   "source": [
    "pw = \"falkwjefaLFWELK123!\"\n",
    "driver.find_element(By.ID, \"password\").send_keys(pw)\n",
    "driver.find_element(By.ID, \"confirmPassword\").send_keys(pw)\n"
   ]
  },
  {
   "cell_type": "code",
   "execution_count": 66,
   "metadata": {},
   "outputs": [],
   "source": [
    "check_boxes = driver.find_elements(By.CLASS_NAME, \"checkmark\")\n",
    "for check_box in check_boxes:\n",
    "    check_box.click()"
   ]
  },
  {
   "cell_type": "code",
   "execution_count": 67,
   "metadata": {},
   "outputs": [],
   "source": [
    "driver.find_element(By.XPATH, \"//button[contains(normalize-space(), 'Complete Setup')]\").click()"
   ]
  }
 ],
 "metadata": {
  "kernelspec": {
   "display_name": "Python 3",
   "language": "python",
   "name": "python3"
  },
  "language_info": {
   "codemirror_mode": {
    "name": "ipython",
    "version": 3
   },
   "file_extension": ".py",
   "mimetype": "text/x-python",
   "name": "python",
   "nbconvert_exporter": "python",
   "pygments_lexer": "ipython3",
   "version": "3.10.5"
  }
 },
 "nbformat": 4,
 "nbformat_minor": 2
}
