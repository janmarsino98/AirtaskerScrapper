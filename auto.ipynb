{
 "cells": [
  {
   "cell_type": "code",
   "execution_count": 1,
   "metadata": {},
   "outputs": [],
   "source": [
    "#IMPORTS\n",
    "from selenium import webdriver\n",
    "from selenium.webdriver.chrome.service import Service\n",
    "from webdriver_manager.chrome import ChromeDriverManager\n",
    "from selenium.webdriver.chrome.options import Options\n",
    "from selenium.webdriver.support.wait import WebDriverWait\n",
    "from selenium.webdriver.support import expected_conditions as EC\n",
    "import time\n",
    "import pickle\n",
    "from selenium.webdriver.common.by import By\n",
    "import pandas as pd\n",
    "import random"
   ]
  },
  {
   "cell_type": "code",
   "execution_count": 2,
   "metadata": {},
   "outputs": [],
   "source": [
    "options = Options()\n",
    "options.add_argument(\"--disable-notifications\")\n",
    "options.add_argument('--lang=en')\n",
    "options.add_argument(\"--disable-extensions\")  \n",
    "options.add_argument(\"--disable-popup-blocking\")  \n",
    "options.add_argument(\"--disable-default-apps\")  \n",
    "options.add_argument(\"--disable-infobars\")  \n",
    "options.add_argument(\"--disable-web-security\")  \n",
    "options.add_argument(  \n",
    "    \"--disable-features=IsolateOrigins,site-per-process\"  \n",
    ")  \n",
    "options.add_argument(  \n",
    "    \"--enable-features=NetworkService,NetworkServiceInProcess\"  \n",
    ")  \n",
    "options.add_argument(\"--profile-directory=Default\")  \n",
    "options.add_experimental_option(\"excludeSwitches\", [\"enable-logging\"])\n",
    "service = Service(ChromeDriverManager().install())\n",
    "driver = webdriver.Chrome(service=service, options=options)"
   ]
  },
  {
   "cell_type": "code",
   "execution_count": 3,
   "metadata": {},
   "outputs": [],
   "source": [
    "driver.get(\"https://www.airtasker.com/\")"
   ]
  },
  {
   "cell_type": "code",
   "execution_count": 6,
   "metadata": {},
   "outputs": [],
   "source": [
    "driver.add_cookie({\n",
    "            \"name\": \"at_sid\",\n",
    "            \"value\": \"\", # INSTAGRAM SESSION ID COOKIE VALUE\n",
    "            \"domain\": \".airtasker.com\",\n",
    "        })"
   ]
  },
  {
   "cell_type": "code",
   "execution_count": 8,
   "metadata": {},
   "outputs": [],
   "source": [
    "driver.get(\"https://www.airtasker.com/tasks\")"
   ]
  },
  {
   "cell_type": "code",
   "execution_count": null,
   "metadata": {},
   "outputs": [],
   "source": [
    "df = pd.read_excel(\"Tasks.xlsx\")\n",
    "grouper = driver.find_element(By.XPATH, \"//div[@class='group']\")\n",
    "tasks = grouper.find_elements(By.XPATH, \".//a[@data-ui-test='task-list-item']\")\n",
    "new_tasks = []\n",
    "for task in tasks:\n",
    "    task_link = task.get_attribute(\"href\")\n",
    "    if task_link in df[\"Link\"]:\n",
    "        continue\n",
    "    else:\n",
    "        category = None\n",
    "        task.click()\n",
    "        title = driver.find_element(By.XPATH, \"//h1\").text.strip()\n",
    "        price = driver.find_element(By.XPATH, \"//div[@class='task-price']\").replace(\"$\", \"\").replace(\",\", \"\").strip()\n",
    "        username = driver.find_element(By.XPATH, \"//a[@class='user-name']\").text.split(\" \")[0]\n",
    "        new_tasks.append([task_link, title, price, username])\n",
    "        \n",
    "new_df = pd.DataFrame([new_tasks], columns=[\"Link\", \"Title\", \"Price\", \"Username\"])\n",
    "\n",
    "        \n",
    "    \n",
    "    "
   ]
  },
  {
   "cell_type": "code",
   "execution_count": 22,
   "metadata": {},
   "outputs": [
    {
     "name": "stdout",
     "output_type": "stream",
     "text": [
      "Resume\n"
     ]
    }
   ],
   "source": [
    "import unicodedata\n",
    "\n",
    "nfkd_form = unicodedata.normalize('NFKD', \"Resumé\")\n",
    "print(\"\".join([c for c in nfkd_form if not unicodedata.combining(c)]))"
   ]
  },
  {
   "cell_type": "code",
   "execution_count": 26,
   "metadata": {},
   "outputs": [
    {
     "data": {
      "text/html": [
       "<div>\n",
       "<style scoped>\n",
       "    .dataframe tbody tr th:only-of-type {\n",
       "        vertical-align: middle;\n",
       "    }\n",
       "\n",
       "    .dataframe tbody tr th {\n",
       "        vertical-align: top;\n",
       "    }\n",
       "\n",
       "    .dataframe thead th {\n",
       "        text-align: right;\n",
       "    }\n",
       "</style>\n",
       "<table border=\"1\" class=\"dataframe\">\n",
       "  <thead>\n",
       "    <tr style=\"text-align: right;\">\n",
       "      <th></th>\n",
       "      <th>Link</th>\n",
       "      <th>Title</th>\n",
       "      <th>Price</th>\n",
       "      <th>Username</th>\n",
       "    </tr>\n",
       "  </thead>\n",
       "  <tbody>\n",
       "    <tr>\n",
       "      <th>0</th>\n",
       "      <td>NaN</td>\n",
       "      <td>NaN</td>\n",
       "      <td>NaN</td>\n",
       "      <td>NaN</td>\n",
       "    </tr>\n",
       "  </tbody>\n",
       "</table>\n",
       "</div>"
      ],
      "text/plain": [
       "   Link  Title  Price  Username\n",
       "0   NaN    NaN    NaN       NaN"
      ]
     },
     "execution_count": 26,
     "metadata": {},
     "output_type": "execute_result"
    }
   ],
   "source": [
    "df = pd.read_excel(\"Tasks.xlsx\", index_col=0)\n",
    "df"
   ]
  },
  {
   "cell_type": "code",
   "execution_count": 11,
   "metadata": {},
   "outputs": [
    {
     "name": "stdout",
     "output_type": "stream",
     "text": [
      "<!DOCTYPE html>\n",
      "<html lang=\"en-US\"><head><title>Just a moment...</title><meta content=\"text/html; charset=utf-8\" http-equiv=\"Content-Type\"/><meta content=\"IE=Edge\" http-equiv=\"X-UA-Compatible\"/><meta content=\"noindex,nofollow\" name=\"robots\"/><meta content=\"width=device-width,initial-scale=1\" name=\"viewport\"/><style>*{box-sizing:border-box;margin:0;padding:0}html{line-height:1.15;-webkit-text-size-adjust:100%;color:#313131}button,html{font-family:system-ui,-apple-system,BlinkMacSystemFont,Segoe UI,Roboto,Helvetica Neue,Arial,Noto Sans,sans-serif,Apple Color Emoji,Segoe UI Emoji,Segoe UI Symbol,Noto Color Emoji}@media (prefers-color-scheme:dark){body{background-color:#222;color:#d9d9d9}body a{color:#fff}body a:hover{color:#ee730a;text-decoration:underline}body .lds-ring div{border-color:#999 transparent transparent}body .font-red{color:#b20f03}body .big-button,body .pow-button{background-color:#4693ff;color:#1d1d1d}body #challenge-success-text{background-image:url(data:image/svg+xml;base64,PHN2ZyB4bWxucz0iaHR0cDovL3d3dy53My5vcmcvMjAwMC9zdmciIHdpZHRoPSIzMiIgaGVpZ2h0PSIzMiIgZmlsbD0ibm9uZSIgdmlld0JveD0iMCAwIDI2IDI2Ij48cGF0aCBmaWxsPSIjZDlkOWQ5IiBkPSJNMTMgMGExMyAxMyAwIDEgMCAwIDI2IDEzIDEzIDAgMCAwIDAtMjZtMCAyNGExMSAxMSAwIDEgMSAwLTIyIDExIDExIDAgMCAxIDAgMjIiLz48cGF0aCBmaWxsPSIjZDlkOWQ5IiBkPSJtMTAuOTU1IDE2LjA1NS0zLjk1LTQuMTI1LTEuNDQ1IDEuMzg1IDUuMzcgNS42MSA5LjQ5NS05LjYtMS40Mi0xLjQwNXoiLz48L3N2Zz4=)}body #challenge-error-text{background-image:url(data:image/svg+xml;base64,PHN2ZyB4bWxucz0iaHR0cDovL3d3dy53My5vcmcvMjAwMC9zdmciIHdpZHRoPSIzMiIgaGVpZ2h0PSIzMiIgZmlsbD0ibm9uZSI+PHBhdGggZmlsbD0iI0IyMEYwMyIgZD0iTTE2IDNhMTMgMTMgMCAxIDAgMTMgMTNBMTMuMDE1IDEzLjAxNSAwIDAgMCAxNiAzbTAgMjRhMTEgMTEgMCAxIDEgMTEtMTEgMTEuMDEgMTEuMDEgMCAwIDEtMTEgMTEiLz48cGF0aCBmaWxsPSIjQjIwRjAzIiBkPSJNMTcuMDM4IDE4LjYxNUgxNC44N0wxNC41NjMgOS41aDIuNzgzem0tMS4wODQgMS40MjdxLjY2IDAgMS4wNTcuMzg4LjQwNy4zODkuNDA3Ljk5NCAwIC41OTYtLjQwNy45ODQtLjM5Ny4zOS0xLjA1Ny4zODktLjY1IDAtMS4wNTYtLjM4OS0uMzk4LS4zODktLjM5OC0uOTg0IDAtLjU5Ny4zOTgtLjk4NS40MDYtLjM5NyAxLjA1Ni0uMzk3Ii8+PC9zdmc+)}}body{display:flex;flex-direction:column;min-height:100vh}body.no-js .loading-spinner{visibility:hidden}body.no-js .challenge-running{display:none}body.dark{background-color:#222;color:#d9d9d9}body.dark a{color:#fff}body.dark a:hover{color:#ee730a;text-decoration:underline}body.dark .lds-ring div{border-color:#999 transparent transparent}body.dark .font-red{color:#b20f03}body.dark .big-button,body.dark .pow-button{background-color:#4693ff;color:#1d1d1d}body.dark #challenge-success-text{background-image:url(data:image/svg+xml;base64,PHN2ZyB4bWxucz0iaHR0cDovL3d3dy53My5vcmcvMjAwMC9zdmciIHdpZHRoPSIzMiIgaGVpZ2h0PSIzMiIgZmlsbD0ibm9uZSIgdmlld0JveD0iMCAwIDI2IDI2Ij48cGF0aCBmaWxsPSIjZDlkOWQ5IiBkPSJNMTMgMGExMyAxMyAwIDEgMCAwIDI2IDEzIDEzIDAgMCAwIDAtMjZtMCAyNGExMSAxMSAwIDEgMSAwLTIyIDExIDExIDAgMCAxIDAgMjIiLz48cGF0aCBmaWxsPSIjZDlkOWQ5IiBkPSJtMTAuOTU1IDE2LjA1NS0zLjk1LTQuMTI1LTEuNDQ1IDEuMzg1IDUuMzcgNS42MSA5LjQ5NS05LjYtMS40Mi0xLjQwNXoiLz48L3N2Zz4=)}body.dark #challenge-error-text{background-image:url(data:image/svg+xml;base64,PHN2ZyB4bWxucz0iaHR0cDovL3d3dy53My5vcmcvMjAwMC9zdmciIHdpZHRoPSIzMiIgaGVpZ2h0PSIzMiIgZmlsbD0ibm9uZSI+PHBhdGggZmlsbD0iI0IyMEYwMyIgZD0iTTE2IDNhMTMgMTMgMCAxIDAgMTMgMTNBMTMuMDE1IDEzLjAxNSAwIDAgMCAxNiAzbTAgMjRhMTEgMTEgMCAxIDEgMTEtMTEgMTEuMDEgMTEuMDEgMCAwIDEtMTEgMTEiLz48cGF0aCBmaWxsPSIjQjIwRjAzIiBkPSJNMTcuMDM4IDE4LjYxNUgxNC44N0wxNC41NjMgOS41aDIuNzgzem0tMS4wODQgMS40MjdxLjY2IDAgMS4wNTcuMzg4LjQwNy4zODkuNDA3Ljk5NCAwIC41OTYtLjQwNy45ODQtLjM5Ny4zOS0xLjA1Ny4zODktLjY1IDAtMS4wNTYtLjM4OS0uMzk4LS4zODktLjM5OC0uOTg0IDAtLjU5Ny4zOTgtLjk4NS40MDYtLjM5NyAxLjA1Ni0uMzk3Ii8+PC9zdmc+)}body.light{background-color:transparent;color:#313131}body.light a{color:#0051c3}body.light a:hover{color:#ee730a;text-decoration:underline}body.light .lds-ring div{border-color:#595959 transparent transparent}body.light .font-red{color:#fc574a}body.light .big-button,body.light .pow-button{background-color:#003681;border-color:#003681;color:#fff}body.light #challenge-success-text{background-image:url(data:image/svg+xml;base64,PHN2ZyB4bWxucz0iaHR0cDovL3d3dy53My5vcmcvMjAwMC9zdmciIHdpZHRoPSIzMiIgaGVpZ2h0PSIzMiIgZmlsbD0ibm9uZSIgdmlld0JveD0iMCAwIDI2IDI2Ij48cGF0aCBmaWxsPSIjMzEzMTMxIiBkPSJNMTMgMGExMyAxMyAwIDEgMCAwIDI2IDEzIDEzIDAgMCAwIDAtMjZtMCAyNGExMSAxMSAwIDEgMSAwLTIyIDExIDExIDAgMCAxIDAgMjIiLz48cGF0aCBmaWxsPSIjMzEzMTMxIiBkPSJtMTAuOTU1IDE2LjA1NS0zLjk1LTQuMTI1LTEuNDQ1IDEuMzg1IDUuMzcgNS42MSA5LjQ5NS05LjYtMS40Mi0xLjQwNXoiLz48L3N2Zz4=)}body.light #challenge-error-text{background-image:url(data:image/svg+xml;base64,PHN2ZyB4bWxucz0iaHR0cDovL3d3dy53My5vcmcvMjAwMC9zdmciIHdpZHRoPSIzMiIgaGVpZ2h0PSIzMiIgZmlsbD0ibm9uZSI+PHBhdGggZmlsbD0iI2ZjNTc0YSIgZD0iTTE2IDNhMTMgMTMgMCAxIDAgMTMgMTNBMTMuMDE1IDEzLjAxNSAwIDAgMCAxNiAzbTAgMjRhMTEgMTEgMCAxIDEgMTEtMTEgMTEuMDEgMTEuMDEgMCAwIDEtMTEgMTEiLz48cGF0aCBmaWxsPSIjZmM1NzRhIiBkPSJNMTcuMDM4IDE4LjYxNUgxNC44N0wxNC41NjMgOS41aDIuNzgzem0tMS4wODQgMS40MjdxLjY2IDAgMS4wNTcuMzg4LjQwNy4zODkuNDA3Ljk5NCAwIC41OTYtLjQwNy45ODQtLjM5Ny4zOS0xLjA1Ny4zODktLjY1IDAtMS4wNTYtLjM4OS0uMzk4LS4zODktLjM5OC0uOTg0IDAtLjU5Ny4zOTgtLjk4NS40MDYtLjM5NyAxLjA1Ni0uMzk3Ii8+PC9zdmc+)}a{background-color:transparent;color:#0051c3;text-decoration:none;transition:color .15s ease}a:hover{color:#ee730a;text-decoration:underline}.main-content{margin:8rem auto;max-width:60rem;width:100%}.heading-favicon{height:2rem;margin-right:.5rem;width:2rem}@media (width <= 720px){.main-content{margin-top:4rem}.heading-favicon{height:1.5rem;width:1.5rem}}.footer,.main-content{padding-left:1.5rem;padding-right:1.5rem}.main-wrapper{align-items:center;display:flex;flex:1;flex-direction:column}.font-red{color:#b20f03}.spacer{margin:2rem 0}.h1{font-size:2.5rem;font-weight:500;line-height:3.75rem}.h2{font-weight:500}.core-msg,.h2{font-size:1.5rem;line-height:2.25rem}.body-text,.core-msg{font-weight:400}.body-text{font-size:1rem;line-height:1.25rem}@media (width <= 720px){.h1{font-size:1.5rem;line-height:1.75rem}.h2{font-size:1.25rem}.core-msg,.h2{line-height:1.5rem}.core-msg{font-size:1rem}}#challenge-error-text{background-image:url(data:image/svg+xml;base64,PHN2ZyB4bWxucz0iaHR0cDovL3d3dy53My5vcmcvMjAwMC9zdmciIHdpZHRoPSIzMiIgaGVpZ2h0PSIzMiIgZmlsbD0ibm9uZSI+PHBhdGggZmlsbD0iI2ZjNTc0YSIgZD0iTTE2IDNhMTMgMTMgMCAxIDAgMTMgMTNBMTMuMDE1IDEzLjAxNSAwIDAgMCAxNiAzbTAgMjRhMTEgMTEgMCAxIDEgMTEtMTEgMTEuMDEgMTEuMDEgMCAwIDEtMTEgMTEiLz48cGF0aCBmaWxsPSIjZmM1NzRhIiBkPSJNMTcuMDM4IDE4LjYxNUgxNC44N0wxNC41NjMgOS41aDIuNzgzem0tMS4wODQgMS40MjdxLjY2IDAgMS4wNTcuMzg4LjQwNy4zODkuNDA3Ljk5NCAwIC41OTYtLjQwNy45ODQtLjM5Ny4zOS0xLjA1Ny4zODktLjY1IDAtMS4wNTYtLjM4OS0uMzk4LS4zODktLjM5OC0uOTg0IDAtLjU5Ny4zOTgtLjk4NS40MDYtLjM5NyAxLjA1Ni0uMzk3Ii8+PC9zdmc+);padding-left:34px}#challenge-error-text,#challenge-success-text{background-repeat:no-repeat;background-size:contain}#challenge-success-text{background-image:url(data:image/svg+xml;base64,PHN2ZyB4bWxucz0iaHR0cDovL3d3dy53My5vcmcvMjAwMC9zdmciIHdpZHRoPSIzMiIgaGVpZ2h0PSIzMiIgZmlsbD0ibm9uZSIgdmlld0JveD0iMCAwIDI2IDI2Ij48cGF0aCBmaWxsPSIjMzEzMTMxIiBkPSJNMTMgMGExMyAxMyAwIDEgMCAwIDI2IDEzIDEzIDAgMCAwIDAtMjZtMCAyNGExMSAxMSAwIDEgMSAwLTIyIDExIDExIDAgMCAxIDAgMjIiLz48cGF0aCBmaWxsPSIjMzEzMTMxIiBkPSJtMTAuOTU1IDE2LjA1NS0zLjk1LTQuMTI1LTEuNDQ1IDEuMzg1IDUuMzcgNS42MSA5LjQ5NS05LjYtMS40Mi0xLjQwNXoiLz48L3N2Zz4=);padding-left:42px}.text-center{text-align:center}.big-button{border:.063rem solid #0051c3;border-radius:.313rem;font-size:.875rem;line-height:1.313rem;padding:.375rem 1rem;transition-duration:.2s;transition-property:background-color,border-color,color;transition-timing-function:ease}.big-button:hover{cursor:pointer}.captcha-prompt:not(.hidden){display:flex}@media (width <= 720px){.captcha-prompt:not(.hidden){flex-wrap:wrap;justify-content:center}}.pow-button{background-color:#0051c3;color:#fff;margin:2rem 0}.pow-button:hover{background-color:#003681;border-color:#003681;color:#fff}.footer{font-size:.75rem;line-height:1.125rem;margin:0 auto;max-width:60rem;width:100%}.footer-inner{border-top:1px solid #d9d9d9;padding-bottom:1rem;padding-top:1rem}.clearfix:after{clear:both;content:\"\";display:table}.clearfix .column{float:left;padding-right:1.5rem;width:50%}.diagnostic-wrapper{margin-bottom:.5rem}.footer .ray-id{text-align:center}.footer .ray-id code{font-family:monaco,courier,monospace}.core-msg,.zone-name-title{overflow-wrap:break-word}@media (width <= 720px){.diagnostic-wrapper{display:flex;flex-wrap:wrap;justify-content:center}.clearfix:after{clear:none;content:none;display:initial;text-align:center}.column{padding-bottom:2rem}.clearfix .column{float:none;padding:0;width:auto;word-break:keep-all}.zone-name-title{margin-bottom:1rem}}.loading-spinner{height:76.391px}.lds-ring{display:inline-block;position:relative}.lds-ring,.lds-ring div{height:1.875rem;width:1.875rem}.lds-ring div{animation:lds-ring 1.2s cubic-bezier(.5,0,.5,1) infinite;border:.3rem solid transparent;border-radius:50%;border-top-color:#313131;box-sizing:border-box;display:block;position:absolute}.lds-ring div:first-child{animation-delay:-.45s}.lds-ring div:nth-child(2){animation-delay:-.3s}.lds-ring div:nth-child(3){animation-delay:-.15s}@keyframes lds-ring{0%{transform:rotate(0)}to{transform:rotate(1turn)}}@media screen and (-ms-high-contrast:active),screen and (-ms-high-contrast:none){.main-wrapper,body{display:block}}</style><meta content=\"375\" http-equiv=\"refresh\"/></head><body class=\"no-js\"><div class=\"main-wrapper\" role=\"main\"><div class=\"main-content\"><noscript><div id=\"challenge-error-title\"><div class=\"h2\"><span id=\"challenge-error-text\">Enable JavaScript and cookies to continue</span></div></div></noscript></div></div><script>(function(){window._cf_chl_opt={cvId: '3',cZone: \"www.airtasker.com\",cType: 'managed',cNounce: '96209',cRay: '86a84aecaf0f6665',cHash: '1fd6bce71534f38',cUPMDTk: \"\\/tasks\\/document-processing-platform-development-x01hsxnz3kggth8kvqn02hydha2\\/?__cf_chl_tk=0BMnN.gF5n5Bih8f4KnlSeTncZryI4sy1HVLXYTw.Dc-1711468187-0.0.1.1-1770\",cFPWv: 'g',cTTimeMs: '1000',cMTimeMs: '375000',cTplV: 5,cTplB: 'cf',cK: \"visitor-time\",fa: \"\\/tasks\\/document-processing-platform-development-x01hsxnz3kggth8kvqn02hydha2\\/?__cf_chl_f_tk=0BMnN.gF5n5Bih8f4KnlSeTncZryI4sy1HVLXYTw.Dc-1711468187-0.0.1.1-1770\",md: \"srWmDD9W9Segnp7BoZ8uH_c1emsK5TIYaeM2TrvpSWY-1711468187-1.1.1.1-aNLZ2UuGN.v.L2NsbM0JFcK2sHXivcIf5k3mFMLtx5slVomdy06A9SKROWvHTFtYhxuRo.xIgVRp.zm6meYlU4OfH1MD91Mgug4eXidq2nVb7lYHQhiDGdcMmMMTYqg.4UPwmi0RkUfZsaa37u.rBRu44hDKkgHY6uVPVs1NcQzJtY6SxThqwcyjHMfqtRXxJa9fZnpifoDOMDBG82DRIewhy1HGwTYYGyweZrjbQNwd0fohEF0KVjTZi.EraiWMqInzfcMTEF6B7evi0qF.8j04QL4LKxbSORrj6gr6uLfeGWVswRTyIYpSQOMm8drdypDcgjNlJOljKpyA6P9FJpEX7ny2iSq4fXzvylyU2TyZqg5ErsZom.ItfDSKxiiERefY5wtzD1LP43_qR01Du_9v6i4jB_S87vZ.CR2RaMXlMJTDV0j.x61UAfixUYYHHKGFx5zNOQqUxvVc2HyGgZKiYsaXdk8540KdqA1_FfFXfCEACDp2Dn0HNymYHM_O44hM_01WvkxM79erGSrtLs_rnZ8.f1MGTA2vTD_IFrPbfbamnTMEHEj.Y27i6jPmqJNd62FR.YU05VFBz.Y_ThS_iVSgYRTkkKgp4NJDMHgigPWkW8bNVTt8nNtjPzWHoj1NA.6WF1THMa3D6bub1vyD.jJEtjSFfgimHjFMUBJP_yheS9PZCuWeVn5rpNRHpMmNJo96tMwHa1wm_VXo.J3FX2dSQns_fucxAEqlzs1vAWG.hfn52sUa8cVJ2wZ_.8mQIeMRZtAdrFgi18c3Pt.puKkhTd1LdWxBXtjOtw4px2EH5_py3s8PeBRQ4LUGtxx1.8AntFJMmPxLS4_8MifZCdbt9dq7zQa8jO9pyYpPnQcW8CSNjbg3EgPDGSKuekgDciWO5N3f25rTTRrEaP7k68vqKpbebsulrMIROiU4KTaRHfc.RwBt8ykM6Dvv2F9R69h.6NEYUGWLcQ_PZUahhflyo9dGkt9NiCyeRDNmJYH7ZROpFMsoTx4rlxKjsrayMCiSm1NiEkruJvbYJ4dlfkMVXnMrPu6i.XOWV0VRSlIrTyJckh.bD5RtrZgVXIaFto5MxEjUhute4reQAn21MSWkvjec3BQNIAF3rNvz3_p1C4.hSjvlzbxcWoD18tp1vVpGn_3wb5UKmxnT66SFtOOVDCUgmC6GZlBAJctpXPgKUoHDC4dLbhB5RytKYeKeDzksZLp9vrqXK23dUq5bEeyu007vWd5UWCoMpk3F31nEEqQr757thFswrMl.HyKMUATew_RocBhcbWs6U52WmXsw0sm2.2HSd4whcVTx6mAcRsnEfSfg7l0Bp94MlMjgJkdzmBKXHirq5M86HlhgtiS80R7tZAUXKMG8c7J9OvrhyrQeEs4oblQwVgYcx8gsuY8EXmBMBfmDiTkO8nGnXjUK0N3yGHSEe9eY699BMYR_U4IpztB7hnlz4dry9UHqaNmC3.gGb_DkbnOMzCaxhHyOD3X.RWf3Srw.VL9DKHKrgKIoRqkcO4rSsuses_AARCkvdAUkskcrhn3ZmhrIXgSEuBzVyUrqEzLI9ZiHwnwbNYKzyaSZmlWBJsju3L94NupaEXIlzdWyKs8yOsQZu_zBgtKYksZ9wg3_4z_sImOHqbDXtftN5T60D93iHbC22PKmJXjHytXownXmthIg2yP6v77rVYvtzq.t7gQ\",mdrd: \"gieaHKEiB_32gKsqF_GkLnQh7cXFCHqkl33cxHwVy5k-1711468187-1.1.1.1-LyKpwECoTGIamS8xSj6qoI8ypVBZ8XseSZmfIKxMtuAfT2JdDAJNzeJwzaYNBSJvwwEbnuASab65Ic9my.nJfu0nGLD.HNX2QlSUZUAun9dFAMuqVWqa0OGDHvt.jluBP2YuZNphTq0Zlrf79vuCH4OhZ4F14eCZGKIGvPwjScS8tmnw_.K98oq3jMwRtfg8hx4mH9h0rnXP0u3dVojkBQ9BCJ0XTgZA9hKlljEp5aFFQm3.S2Jy_0VEi5UKOJ4wWzuulUq0r6bhNDty8H5_Zcz2Gr4ILNiXMGA2cY9_B8ft54KBi.EMZgImOLhn53XNIh0LY53.OMjqW9tp4HH_R4iZJtl2Yv6B6AukKDJ8CJ7NhyXzVbrsuqtE8GB3ZZDWqutaeZR9l7P3qcOO_WLuUYTtr_kMnfuQI3.33L9wZwgV.K3mU988qmLgvZd4Wpal2BS_vj59NpArc9mgXdstvygIlOULdoi21ID18nc.Luzhhfr4ay7pGgeJjPanmkf6Ew7tha0fAd5jXwMZgLkG9bfTMAATwuM4O_cJBqs002kF_27h10QgwlIjetAgtFWewZOdtm8sST.Cl526mT2ePdBhUmsIBFxJZzIkMT_KAV1hlKdBA8mG9rReylCZYBx60BLkQ25Ml4Ij5b.mfaBA_oYiU2LVsqaKN1Aq85dKNS6xWoAb3AsPvcazyIkHqxEveaMg_Oc2JBqBpcsq0bpf_AFfv_84Bus77vzzztE55U59RWGCXtS7R1LSm3X5bjP7jG9xOHWmdH5E4SAY1lDQ3z26.aUMImu2nKP.Vo2fyR0MCU.AcN4kcis3STD2E_Za0mWc07oBIQVi0CKO6Kg0CTDjLXtNAn9HwKf8LrC2JBjuCClatB7mr1K1TIhkx7UlO8PnR9H5.dG7GpF369tG8WsC59AlvIABzCO3thabYgBBPnf7C0zOV7QFITepz8hWziIdLD5UJ5stZuA6_b8iKTlULGrm_.GF0A.kxVnhMZGGCJo4JowIv7k9dOWOB95qOMXmH8TcnkvHlrz03cFHGBJs6BMpHdEznjiFyln4Z_M0ZvFUBdGEsCZRpqk_F11.FZPakZ5xqyw_0EOqh40GSkUSKO3iQ7V1O30dh22MWOIlaqO974MGGMD0D3Yf.wUDdLuwvlURrX9makOcybcn6ueZDChlephObu.5NrsP29uhS_iAjPWzTi0J_yZNqM85TBPVdFlndwOulbiRBAvjQALangVzj4nevO0Y_WMwsZNNqjNWB9brt.FUwFhtO4STJSCm9O9BtXXozu0gtBzgASJAyCLQ_OJla3vIX2LQ62Gf9_OgFM_hRG5a0CfYqanAxjj9ajVrunCxoxIY.WcaIhIqRvXhPhohnFZ6JlZTZHHNY8qAA0zhCVP9f2PUV59q7LULb6rBeZdWiMx_MesOA0voXMUZ7nmLEUsh1fOfa8m4akvmoW_Le80KTX4fNGL2iBboVmYMDmJZb4a407hhsB6_Uy_TBaXjcD9yvLlBK4SaJ.hXJYub.yPuHP8tEEvpOeXCCZc5_cvTGQ8B5rQ7149f_uqBApWpm0OPnzUElMtRLk7Iw1MiVqrCXdKnRh0SwMhjtPUFGFkWVAlXvkFM25rAjMKbjgYhWbjX2WwsYa8q6xaZqSr9jgCTzF6IkBohZcLzQOw6HX4jfJQTPfJpd5nKFRYY0jQm8jU1N0hOZoucIkxnSpPHzVVCUkOedepOZDUL276LSy5pf_IBmQZW4ueDT_swIA9Zj8aR92jXf5RsFPN3g0cofJwFzqBGS2ftmnxbPhoROMKdXwmntjrW1SBwX2jpiWAjpMCPLDLVkW5WA4NZ.rsU.spdpfS4E1JpT8mXk7njY2TXSS3K0eqx0Yo5niIWpDVzXc32AilZUZVPdy.FVi_1qtCMW8pOa.UODJ8_v7OK7joHylz40S62ch0N3PaLeJYzDKE6MJ9Wc.SIqDXXs5ep43OSZoqUSnuoW2Aa8ZcRQ5PzxaVBYnna4Ca_V.BLLqYQ190RFtNAGAxMe68in0sYUhVjnY4EP73GoUH9soUCyzYmjSGKFL5uFJdtZQSqpCyFpIMJGfwLpOip7_WUGq1Ewgj0Vb_.1K9CcpvaqVppsbu2yG7wWaGC0xNcZiI4lrIv_DmDaGW0Cwg6NCNGBDNoatRdee3c_U7Q\",cRq: {ru: 'aHR0cHM6Ly93d3cuYWlydGFza2VyLmNvbS90YXNrcy9kb2N1bWVudC1wcm9jZXNzaW5nLXBsYXRmb3JtLWRldmVsb3BtZW50LXgwMWhzeG56M2tnZ3RoOGt2cW4wMmh5ZGhhMi8=',ra: 'cHl0aG9uLXJlcXVlc3RzLzIuMjguMA==',rm: 'R0VU',d: 'bxMAm6+A81Xnj6fBiS4CmR/KLOehlVmqJ89uRGglj9cM06+AHsombcJkUjOLPVJUcO8AzQVgu8lqvJ9iS1stQw7DwDRwP2MWN/jekSzZt61XFYavn07jRKeNtqK7yhaD9fccZCcyz8UgLsOq65Q9V6ystQzhhmokYRMtlZX83qNA7MpQNClqPpqduwK63lViVnVTpfqmjPVH3YgulfH6d+yvTM69kLqlhro/RzEQLJE4HTwbG9Ignl+Qc9LgXJp0A/IhnYU1jd/V7bKHQKwil3V+311mJTHeGSjeDwnnX6uF1o2GQY6tB4ljWiwkzfZXytu4BJdxMP24UygfRAvBtFqIGWfchyrjlq/POauktlmNg+jg4mlQYMAn6K1qeS/DW2hB+oToKVzmMDJD9e+FI5C1FmPh8lV/YK+MN2qqEMh5LIDRTiXZCqqVfoj3jCgIUJp2PR8qfSh3SZR3p9PjOGccRYRAmRmRX0mmbnIhRHO7mOu6BbURCU8A38j8qcO4Njobqjq/tx9PDsVys0eSyF4K2cVigfldd6/hlPxqWUNWMVNSZv1eXOq704AnxDEnqUJ8pXGmFIsXQEe7wm0deQ==',t: 'MTcxMTQ2ODE4Ny42NzkwMDA=',cT: Math.floor(Date.now() / 1000),m: 'Dg7HdoTspV8vh0k1HnRT6HfATAF8EAf8ELyRHJcfva8=',i1: '69huzjU5/swzGyx8yvd8eQ==',i2: 'RJxtYgscLGmMF095Wld/NQ==',zh: 'pm49YIa4OxRdhncEelfqLuT7G9LZr8mDrVjsvgWlitQ=',uh: 'KXOU42hMUUNBCj8raB/cd2As9NbLMb3/GhNBEShv6ew=',hh: 'g6vc8VnI4ALw7j5kEk0P+mzUOvtq/CsXzOlYMh5d4wA=',}};var cpo = document.createElement('script');cpo.src = '/cdn-cgi/challenge-platform/h/g/orchestrate/chl_page/v1?ray=86a84aecaf0f6665';window._cf_chl_opt.cOgUHash = location.hash === '' && location.href.indexOf('#') !== -1 ? '#' : location.hash;window._cf_chl_opt.cOgUQuery = location.search === '' && location.href.slice(0, location.href.length - window._cf_chl_opt.cOgUHash.length).indexOf('?') !== -1 ? '?' : location.search;if (window.history && window.history.replaceState) {var ogU = location.pathname + window._cf_chl_opt.cOgUQuery + window._cf_chl_opt.cOgUHash;history.replaceState(null, null, \"\\/tasks\\/document-processing-platform-development-x01hsxnz3kggth8kvqn02hydha2\\/?__cf_chl_rt_tk=0BMnN.gF5n5Bih8f4KnlSeTncZryI4sy1HVLXYTw.Dc-1711468187-0.0.1.1-1770\" + window._cf_chl_opt.cOgUHash);cpo.onload = function() {history.replaceState(null, null, ogU);}}document.getElementsByTagName('head')[0].appendChild(cpo);}());</script></body></html>\n"
     ]
    }
   ],
   "source": [
    "import requests\n",
    "from bs4 import BeautifulSoup as bs\n",
    "\n",
    "r = requests.get(\"https://www.airtasker.com/tasks/document-processing-platform-development-x01hsxnz3kggth8kvqn02hydha2/\")\n",
    "\n",
    "soup = bs(r.text, \"html.parser\")\n",
    "\n",
    "print(soup)"
   ]
  },
  {
   "cell_type": "code",
   "execution_count": 44,
   "metadata": {},
   "outputs": [
    {
     "name": "stdout",
     "output_type": "stream",
     "text": [
      "c5a260d8-b5a9-4a9d-90c6-df5f786fdb53\n"
     ]
    }
   ],
   "source": [
    "from dotenv import load_dotenv\n",
    "import os\n",
    "\n",
    "# Ensure the .env file is located in the same directory as this script,\n",
    "# or provide the path to load_dotenv() if it's located elsewhere.\n",
    "\n",
    "# Load environment variables from .env file\n",
    "load_dotenv()\n",
    "\n",
    "# Access the environment variable using its name\n",
    "at_sid = os.getenv('AT_SID')\n",
    "# This should print the value of AT_SID from your .env file,\n",
    "# e.g., \"c5a260d8-b5a9-4a9d-90c6-df5f786fdb53\"\n",
    "print(at_sid)\n"
   ]
  }
 ],
 "metadata": {
  "kernelspec": {
   "display_name": "Python 3",
   "language": "python",
   "name": "python3"
  },
  "language_info": {
   "codemirror_mode": {
    "name": "ipython",
    "version": 3
   },
   "file_extension": ".py",
   "mimetype": "text/x-python",
   "name": "python",
   "nbconvert_exporter": "python",
   "pygments_lexer": "ipython3",
   "version": "3.10.5"
  }
 },
 "nbformat": 4,
 "nbformat_minor": 2
}
